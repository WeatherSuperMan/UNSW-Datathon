{
 "cells": [
  {
   "cell_type": "markdown",
   "metadata": {},
   "source": [
    "# UNSW DataThon 2018\n",
    "Sean and lmcmz Submition"
   ]
  },
  {
   "cell_type": "markdown",
   "metadata": {},
   "source": [
    "### Import all the package that we used in the DataThon"
   ]
  },
  {
   "cell_type": "code",
   "execution_count": 1,
   "metadata": {},
   "outputs": [],
   "source": [
    "from collections import defaultdict\n",
    "import matplotlib.pyplot as plt\n",
    "import seaborn as sns; sns.set()\n",
    "from time import time\n",
    "import pandas as pd\n",
    "import numpy as np\n",
    "%matplotlib inline"
   ]
  },
  {
   "cell_type": "markdown",
   "metadata": {},
   "source": [
    "## Pre-processing\n",
    "\n",
    "\n",
    "### Change the format of DataFrame"
   ]
  },
  {
   "cell_type": "code",
   "execution_count": 2,
   "metadata": {},
   "outputs": [],
   "source": [
    "# Loading the data\n",
    "userDf = pd.read_csv(\"User Data.csv\")\n",
    "bookDf=pd.read_csv(\"Books Information.csv\")\n",
    "\n",
    "#rename for coding\n",
    "userDf.columns=[\"ID\",\"User_Diff\",\"B_17\",\"B_18\",\"Rate_17\"]\n",
    "bookDf.columns=[\"ID\",\"Genre\",\"Barcode\",\"Diff\",\"N_W\",\"P_17\",\"P_18\",\"Place\",\"N_S\"]\n",
    "\n",
    "# Convert the book strings into a list \n",
    "def convert2list(x):\n",
    "    bookList=x.replace(\" \",\"\").split(\",\")\n",
    "    return [int(i) for i in bookList]\n",
    "\n",
    "userDf[\"B_17\"] = userDf[\"B_17\"].apply(convert2list)\n",
    "userDf[\"B_18\"] = userDf[\"B_18\"].apply(convert2list)"
   ]
  },
  {
   "cell_type": "markdown",
   "metadata": {},
   "source": [
    "### Building the query dictionary"
   ]
  },
  {
   "cell_type": "code",
   "execution_count": 3,
   "metadata": {},
   "outputs": [],
   "source": [
    "# Building a bookDiff dictionary for querying the book difficulty \n",
    "bookDiffDict={}\n",
    "def addToDict(x):\n",
    "    bookDiffDict[x[\"ID\"]]=x[\"Diff\"]\n",
    "bookDf.apply(addToDict,axis=1)\n",
    "\n",
    "# Building a diffRateDict default dictionary for querying the rate list\n",
    "# corresponding to its user and book difficulty \n",
    "diffRateDict={i+1:defaultdict(list) for i in range(5)}\n",
    "def addDiffRate(x):\n",
    "    bookList=x[\"B_17\"]\n",
    "    for book in bookList:\n",
    "        bookDiff=bookDiffDict[book]\n",
    "        userDiif=x[\"User_Diff\"]\n",
    "        diffRateDict[bookDiff][userDiif].append(x[\"Rate_17\"])\n",
    "userDf.apply(addDiffRate,axis=1)\n",
    "\n",
    "# Calculating Mean Rate for its corresponding user and book difficulty \n",
    "diffMeanRate={ }\n",
    "for bookDiff,userDiifD in diffRateDict.items():\n",
    "    tempRates=[]\n",
    "    tempDict={}\n",
    "    for userDiif,Rates in userDiifD.items():\n",
    "        tempRates.extend(Rates)\n",
    "        tempDict[userDiif]=np.mean(Rates)\n",
    "    m=np.mean(tempRates)\n",
    "    updateD={ k:i-m for k,i in tempDict.items()}\n",
    "    updateD[\"m\"]=m\n",
    "    diffMeanRate[bookDiff]=updateD"
   ]
  },
  {
   "cell_type": "markdown",
   "metadata": {},
   "source": [
    "## Processing\n",
    "\n",
    "### Calculate the mean rate for each book"
   ]
  },
  {
   "cell_type": "code",
   "execution_count": 4,
   "metadata": {},
   "outputs": [],
   "source": [
    "def dictAppend(x):\n",
    "    for i in x[\"B_17\"]:\n",
    "        r=x[\"Rate_17\"]\n",
    "        bookDict[i].append(r)\n",
    "bookDict=defaultdict(list)\n",
    "userDf.apply(dictAppend, axis=1)\n",
    "bookMean={k:np.mean(i) for k,i in bookDict.items()}"
   ]
  },
  {
   "cell_type": "markdown",
   "metadata": {},
   "source": [
    "### Calculate the user bias for each user"
   ]
  },
  {
   "cell_type": "code",
   "execution_count": 5,
   "metadata": {},
   "outputs": [],
   "source": [
    "def userBias(x):\n",
    "    bookList = x[\"B_17\"]\n",
    "    score = x[\"Rate_17\"]\n",
    "    userDiif=x[\"User_Diff\"]\n",
    "    rateList=[]\n",
    "    for book in bookList:\n",
    "        boofDiff=bookDiffDict[book]\n",
    "        if book in bookMean:\n",
    "            predict=bookMean[book]\n",
    "        else:\n",
    "            predict=diffMeanRate[boofDiff][userDiif]\n",
    "        rateList.append(predict)\n",
    "    predict = np.mean(rateList)\n",
    "    return score - predict\n",
    "userDf[\"userBias\"]=userDf.apply(userBias,axis=1)"
   ]
  },
  {
   "cell_type": "markdown",
   "metadata": {},
   "source": [
    "### Prediction"
   ]
  },
  {
   "cell_type": "code",
   "execution_count": 6,
   "metadata": {},
   "outputs": [],
   "source": [
    "def predict(x):\n",
    "    bookList = x[\"B_18\"]\n",
    "    bookList.extend(x[\"B_17\"])\n",
    "    userDiif=x[\"User_Diff\"]\n",
    "    rateList=[    ]\n",
    "    for book in bookList:\n",
    "        boofDiff=bookDiffDict[book]\n",
    "        if book in bookMean:\n",
    "            predict=bookMean[book]+ x[\"userBias\"]\n",
    "        else:\n",
    "            print(book)\n",
    "            predict=diffMeanRate[boofDiff][userDiif]+ x[\"userBias\"]\n",
    "        rateList.append((predict if predict<10 else 10) if predict>0 else 0)\n",
    "    avePred = np.mean(rateList)\n",
    "    return avePred\n",
    "userDf[\"R_18\"]=userDf.apply(predict,axis=1)"
   ]
  },
  {
   "cell_type": "markdown",
   "metadata": {},
   "source": [
    "### Change the output format "
   ]
  },
  {
   "cell_type": "code",
   "execution_count": 7,
   "metadata": {},
   "outputs": [],
   "source": [
    "outputDf=pd.concat([userDf[\"ID\"],userDf[\"R_18\"]],axis=1)\n",
    "outputDf.columns=[\"User ID\",\"Average Rating (2018)\"]\n",
    "outputDf.to_csv(\"output.csv\",index=False)"
   ]
  }
 ],
 "metadata": {
  "kernelspec": {
   "display_name": "Python 3",
   "language": "python",
   "name": "python3"
  },
  "language_info": {
   "codemirror_mode": {
    "name": "ipython",
    "version": 3
   },
   "file_extension": ".py",
   "mimetype": "text/x-python",
   "name": "python",
   "nbconvert_exporter": "python",
   "pygments_lexer": "ipython3",
   "version": "3.6.4"
  },
  "widgets": {
   "application/vnd.jupyter.widget-state+json": {
    "state": {},
    "version_major": 2,
    "version_minor": 0
   }
  }
 },
 "nbformat": 4,
 "nbformat_minor": 2
}
