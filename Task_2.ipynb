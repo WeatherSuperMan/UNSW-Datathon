{
 "cells": [
  {
   "cell_type": "markdown",
   "metadata": {},
   "source": [
    "# UNSW DataThon 2018\n",
    "Sean and lmcmz Submition"
   ]
  },
  {
   "cell_type": "markdown",
   "metadata": {},
   "source": [
    "## Input all the package we needed"
   ]
  },
  {
   "cell_type": "code",
   "execution_count": 1,
   "metadata": {},
   "outputs": [],
   "source": [
    "%matplotlib inline\n",
    "from sklearn.feature_extraction.text import CountVectorizer\n",
    "from scipy.stats.stats import pearsonr as pr\n",
    "from scipy.stats import ttest_ind as ttest\n",
    "from  scipy.stats import f_oneway as aov\n",
    "from collections import defaultdict\n",
    "import matplotlib.pyplot as plt\n",
    "import seaborn as sns\n",
    "import pandas as pd\n",
    "import numpy as np"
   ]
  },
  {
   "cell_type": "markdown",
   "metadata": {},
   "source": [
    "## Read the csv file and Pre-processing"
   ]
  },
  {
   "cell_type": "code",
   "execution_count": 2,
   "metadata": {},
   "outputs": [],
   "source": [
    "userDf = pd.read_csv(\"User Data.csv\")\n",
    "bookDf = pd.read_csv(\"Books Information.csv\")\n",
    "prediction = pd.read_csv(\"output.csv\")\n",
    "\n",
    "#rename for coding\n",
    "userDf.columns=[\"ID\",\"User_Diff\",\"B_17\",\"B_18\",\"Rate_17\"]\n",
    "bookDf.columns=[\"ID\",\"Genre\",\"Barcode\",\"Diff\",\"N_W\",\"P_17\",\"P_18\",\"Place\",\"N_S\"]\n",
    "\n",
    "userDf[\"R_18\"]=prediction[\"Average Rating (2018)\"]\n",
    "# Convert the book strings into a list \n",
    "def convert2list(x):\n",
    "    bookList=x.replace(\" \",\"\").split(\",\")\n",
    "    return [int(i) for i in bookList]\n",
    "\n",
    "userDf[\"B_17\"] = userDf[\"B_17\"].apply(convert2list)\n",
    "userDf[\"B_18\"] = userDf[\"B_18\"].apply(convert2list)"
   ]
  },
  {
   "cell_type": "markdown",
   "metadata": {},
   "source": [
    "## Calculate the mean of Rate in 2017 and 2018 for each book"
   ]
  },
  {
   "cell_type": "code",
   "execution_count": 3,
   "metadata": {},
   "outputs": [],
   "source": [
    "def dict17Append(x):\n",
    "    for i in x[\"B_17\"]:\n",
    "        book17Dict[i].append(x['Rate_17'])\n",
    "book17Dict=defaultdict(list)\n",
    "userDf.apply(dict17Append, axis=1)\n",
    "\n",
    "def dict18Append(x):\n",
    "    for i in x[\"B_18\"]:\n",
    "        book18Dict[i].append(x['R_18'])\n",
    "book18Dict=defaultdict(list)\n",
    "userDf.apply(dict18Append, axis=1)\n",
    "\n",
    "def canvort2mean(bookDict):\n",
    "    return {book:np.mean(rates) for book,rates in bookDict.items()}\n",
    "book17Mean=canvort2mean(book17Dict)\n",
    "book18Mean=canvort2mean(book18Dict)\n",
    "\n",
    "bookDf[\"R_17\"]=bookDf[\"ID\"].apply(lambda x: book17Mean[x])\n",
    "bookDf[\"R_18\"]=bookDf[\"ID\"].apply(lambda x: book18Mean[x])\n",
    "\n",
    "bookDf.to_csv(\"bookRate.csv\",index=False)"
   ]
  },
  {
   "cell_type": "markdown",
   "metadata": {},
   "source": [
    "## Statistical analysis"
   ]
  },
  {
   "cell_type": "code",
   "execution_count": 4,
   "metadata": {},
   "outputs": [
    {
     "name": "stdout",
     "output_type": "stream",
     "text": [
      "Genre vs Rate 2017\n",
      "Stat: 2.1154 \n",
      "P value: 0.0004\n",
      "\n",
      "Genre vs Rate 2018\n",
      "Stat: 2.6372 \n",
      "P value: 0.0\n",
      "\n",
      "Genre vs Number Sold\n",
      "Stat: 1.1746 \n",
      "P value: 0.2356\n",
      "\n",
      "Diff vs Rate 2017\n",
      "Stat: 0.4266 \n",
      "P value: 0.7895\n",
      "\n",
      "Diff vs Rate 2018\n",
      "Stat: 0.358 \n",
      "P value: 0.8386\n",
      "\n",
      "Diff vs Number Sold\n",
      "Stat: 2.1516 \n",
      "P value: 0.072\n",
      "\n",
      "Place vs Rate 2017\n",
      "Stat: 1.509 \n",
      "P value: 0.1968\n",
      "\n",
      "Place vs Rate 2018\n",
      "Stat: 0.5103 \n",
      "P value: 0.7282\n",
      "\n",
      "Place vs Number Sold\n",
      "Stat: 0.9382 \n",
      "P value: 0.4407\n",
      "\n",
      "N_W vs Rate 2017\n",
      "Stat: 0.0065 \n",
      "P value: 0.721\n",
      "\n",
      "N_W vs Rate 2018\n",
      "Stat: 0.0132 \n",
      "P value: 0.4711\n",
      "\n",
      "N_W vs Number Sold\n",
      "Stat: 0.0113 \n",
      "P value: 0.5348\n",
      "\n",
      "P_17 vs Rate 2017\n",
      "Stat: -0.0047 \n",
      "P value: 0.7976\n",
      "\n",
      "P_17 vs Rate 2018\n",
      "Stat: -0.0073 \n",
      "P value: 0.6895\n",
      "\n",
      "P_17 vs Number Sold\n",
      "Stat: 0.0204 \n",
      "P value: 0.2645\n",
      "\n",
      "P_18 vs Rate 2017\n",
      "Stat: -0.0045 \n",
      "P value: 0.8046\n",
      "\n",
      "P_18 vs Rate 2018\n",
      "Stat: -0.0083 \n",
      "P value: 0.6478\n",
      "\n",
      "P_18 vs Number Sold\n",
      "Stat: 0.0197 \n",
      "P value: 0.2812\n",
      "\n",
      "N_S vs Rate 2017\n",
      "Stat: 0.0054 \n",
      "P value: 0.768\n",
      "\n",
      "N_S vs Rate 2018\n",
      "Stat: 0.0073 \n",
      "P value: 0.6896\n",
      "\n",
      "N_S vs Number Sold\n",
      "Stat: 1.0 \n",
      "P value: 0.0\n",
      "\n"
     ]
    }
   ],
   "source": [
    "def cal_aov(feature,target,df):\n",
    "    feature_set=set(df[feature].values.tolist())\n",
    "    diff_values=[]\n",
    "    for i in feature_set:\n",
    "        values=df[df[feature]==i][target].tolist() \n",
    "        diff_values.append(values)\n",
    "    stat,p=aov(*diff_values)\n",
    "    return stat,p\n",
    "\n",
    "cate_features=[\"Genre\",\"Diff\",\"Place\"]\n",
    "for f in cate_features:\n",
    "    st,p=cal_aov(f,\"R_17\",bookDf)\n",
    "    print(\"{} vs {}\".format(f,\"Rate 2017\"))\n",
    "    print(\"Stat: {} \\nP value: {}\\n\".format(round(st,4),round(p,4)))\n",
    "    st,p=cal_aov(f,\"R_18\",bookDf)\n",
    "    print(\"{} vs {}\".format(f,\"Rate 2018\"))\n",
    "    print(\"Stat: {} \\nP value: {}\\n\".format(round(st,4),round(p,4)))\n",
    "    st,p=cal_aov(f,\"N_S\",bookDf)\n",
    "    print(\"{} vs {}\".format(f,\"Number Sold\"))\n",
    "    print(\"Stat: {} \\nP value: {}\\n\".format(round(st,4),round(p,4)))\n",
    "    \n",
    "quantitive_features=[\"N_W\",\"P_17\",\"P_18\",'N_S']\n",
    "for f in quantitive_features:\n",
    "    s,p=pr(bookDf[f],bookDf[\"R_17\"])\n",
    "    print(\"{} vs {}\".format(f,\"Rate 2017\"))\n",
    "    print(\"Stat: {} \\nP value: {}\\n\".format(round(s,4),round(p,4)))\n",
    "    s,p=pr(bookDf[f],bookDf[\"R_18\"])\n",
    "    print(\"{} vs {}\".format(f,\"Rate 2018\"))\n",
    "    print(\"Stat: {} \\nP value: {}\\n\".format(round(s,4),round(p,4)))\n",
    "    s,p=pr(bookDf[f],bookDf['N_S'])\n",
    "    print(\"{} vs {}\".format(f,\"Number Sold\"))\n",
    "    print(\"Stat: {} \\nP value: {}\\n\".format(round(s,4),round(p,4)))"
   ]
  },
  {
   "cell_type": "markdown",
   "metadata": {},
   "source": [
    "## Generate the dictionary for mapping the words"
   ]
  },
  {
   "cell_type": "code",
   "execution_count": 6,
   "metadata": {},
   "outputs": [],
   "source": [
    "wordM=pd.read_csv(\"Words Mapping.csv\")\n",
    "wordDict={}\n",
    "def addWordDict(x):\n",
    "\twordDict[x[\"Word ID\"]]=x[\"Word\"]\n",
    "t=wordM.apply(addWordDict,axis=1)"
   ]
  },
  {
   "cell_type": "markdown",
   "metadata": {},
   "source": [
    "## Change the format of words into one-hot "
   ]
  },
  {
   "cell_type": "code",
   "execution_count": 7,
   "metadata": {},
   "outputs": [],
   "source": [
    "df=pd.read_csv(\"Words in Books Data.csv\")\n",
    "bookRateDf=pd.read_csv(\"bookRate.csv\")\n",
    "sp_l=lambda x: np.array(x.split(\"|\"),dtype=int)\n",
    "WordsList=df[\"Words in Book\"].apply(sp_l).tolist()\n",
    "counter = CountVectorizer(lowercase = False, tokenizer = lambda x: x)\n",
    "X= counter.fit_transform(WordsList)\n",
    "countArray=X.toarray()"
   ]
  },
  {
   "cell_type": "markdown",
   "metadata": {},
   "source": [
    "## Apply t-test for word selections"
   ]
  },
  {
   "cell_type": "code",
   "execution_count": 8,
   "metadata": {},
   "outputs": [
    {
     "name": "stderr",
     "output_type": "stream",
     "text": [
      "G:\\py\\lib\\site-packages\\numpy\\core\\fromnumeric.py:3194: RuntimeWarning: Degrees of freedom <= 0 for slice\n",
      "  **kwargs)\n",
      "G:\\py\\lib\\site-packages\\numpy\\core\\_methods.py:127: RuntimeWarning: invalid value encountered in double_scalars\n",
      "  ret = ret.dtype.type(ret / rcount)\n",
      "G:\\py\\lib\\site-packages\\scipy\\stats\\_distn_infrastructure.py:879: RuntimeWarning: invalid value encountered in greater\n",
      "  return (self.a < x) & (x < self.b)\n",
      "G:\\py\\lib\\site-packages\\scipy\\stats\\_distn_infrastructure.py:879: RuntimeWarning: invalid value encountered in less\n",
      "  return (self.a < x) & (x < self.b)\n",
      "G:\\py\\lib\\site-packages\\scipy\\stats\\_distn_infrastructure.py:1821: RuntimeWarning: invalid value encountered in less_equal\n",
      "  cond2 = cond0 & (x <= self.a)\n"
     ]
    }
   ],
   "source": [
    "def calTtest(work,y):\n",
    "    y=np.array(y)\n",
    "    tID=np.where(countArray[:,work]>0)\n",
    "    fID=np.where(countArray[:,work]==0)\n",
    "    ty=y[tID]\n",
    "    fy=y[fID]\n",
    "    return ttest(*[ty,fy])\n",
    "\n",
    "diffDict={17:[],\n",
    "          18:[]}\n",
    "for index in range(8234):\n",
    "    for y in [17,18]:\n",
    "        stat,p=calTtest(index,bookRateDf[\"R_\"+str(y)])\n",
    "        if p<0.05:\n",
    "            diffDict[y].append(index)"
   ]
  },
  {
   "cell_type": "markdown",
   "metadata": {},
   "source": [
    "#### 270 words in 2017 are seleceted for the following steps and the data is saved into a csv file and the rest analysis is using R to select the most important words."
   ]
  },
  {
   "cell_type": "code",
   "execution_count": 9,
   "metadata": {
    "scrolled": true
   },
   "outputs": [
    {
     "data": {
      "text/plain": [
       "<matplotlib.axes._subplots.AxesSubplot at 0x237e4efc0b8>"
      ]
     },
     "execution_count": 9,
     "metadata": {},
     "output_type": "execute_result"
    },
    {
     "data": {
      "image/png": "[encoded data removed]",
      "text/plain": [
       "<matplotlib.figure.Figure at 0x237e4dc4b38>"
      ]
     },
     "metadata": {},
     "output_type": "display_data"
    }
   ],
   "source": [
    "selectedDF=bookDf[[\"Diff\",\"N_W\",\"P_17\",\"R_17\"]]\n",
    "selectedDF.columns=[\"Book Diff\",\"Number of Words\",\"Price on 2017\",\"Rate 2017\"]\n",
    "corr=selectedDF.corr()\n",
    "\n",
    "# Generate a mask for the upper triangle\n",
    "mask = np.zeros_like(corr, dtype=np.bool)\n",
    "mask[np.triu_indices_from(mask)] = True\n",
    "\n",
    "# Set up the matplotlib figure\n",
    "f, ax = plt.subplots(figsize=(6, 4))\n",
    "\n",
    "# Generate a custom diverging colormap\n",
    "cmap = sns.diverging_palette(220, 10, as_cmap=True)\n",
    "\n",
    "# Draw the heatmap with the mask and correct aspect ratio\n",
    "sns.heatmap(corr, mask=mask, cmap=cmap, vmax=.3, center=0,\n",
    "            square=True, linewidths=.5, cbar_kws={\"shrink\": .5})\n"
   ]
  }
 ],
 "metadata": {
  "kernelspec": {
   "display_name": "Python 3",
   "language": "python",
   "name": "python3"
  },
  "language_info": {
   "codemirror_mode": {
    "name": "ipython",
    "version": 3
   },
   "file_extension": ".py",
   "mimetype": "text/x-python",
   "name": "python",
   "nbconvert_exporter": "python",
   "pygments_lexer": "ipython3",
   "version": "3.6.4"
  }
 },
 "nbformat": 4,
 "nbformat_minor": 2
}
